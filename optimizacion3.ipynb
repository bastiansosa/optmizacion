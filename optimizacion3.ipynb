{
  "nbformat": 4,
  "nbformat_minor": 0,
  "metadata": {
    "colab": {
      "provenance": [],
      "collapsed_sections": [],
      "authorship_tag": "ABX9TyOwOWtpZyX/wIVTIkEYA9g+",
      "include_colab_link": true
    },
    "kernelspec": {
      "name": "python3",
      "display_name": "Python 3"
    },
    "language_info": {
      "name": "python"
    }
  },
  "cells": [
    {
      "cell_type": "markdown",
      "metadata": {
        "id": "view-in-github",
        "colab_type": "text"
      },
      "source": [
        "<a href=\"https://colab.research.google.com/github/bastiansosa/optmizacion/blob/main/optimizacion3.ipynb\" target=\"_parent\"><img src=\"https://colab.research.google.com/assets/colab-badge.svg\" alt=\"Open In Colab\"/></a>"
      ]
    },
    {
      "cell_type": "code",
      "execution_count": 1,
      "metadata": {
        "colab": {
          "base_uri": "https://localhost:8080/"
        },
        "id": "-dEeUgTjq9pa",
        "outputId": "123680b6-030d-4de3-a20f-09474ec170a4"
      },
      "outputs": [
        {
          "output_type": "stream",
          "name": "stdout",
          "text": [
            "Looking in indexes: https://pypi.org/simple, https://us-python.pkg.dev/colab-wheels/public/simple/\n",
            "Collecting pulp\n",
            "  Downloading PuLP-2.7.0-py3-none-any.whl (14.3 MB)\n",
            "\u001b[K     |████████████████████████████████| 14.3 MB 30.3 MB/s \n",
            "\u001b[?25hInstalling collected packages: pulp\n",
            "Successfully installed pulp-2.7.0\n"
          ]
        }
      ],
      "source": [
        "!pip install pulp\n",
        "from pulp import *"
      ]
    },
    {
      "cell_type": "markdown",
      "source": [
        "EJERCICIO \n",
        "\n",
        "\n",
        "Obj: Maximizar inversion de cartera\n",
        "\n",
        "1) Variable de decision:\n",
        "\n",
        "  x1: Porcentaje bono gobierno\n",
        "\n",
        "  x2: Porcentaje bono acciones florida\n",
        "\n",
        "  x3: Porcentaje bono acciones la nacion\n",
        "\n",
        "  x4: Porcentaje bono certificado Bancos\n",
        "\n",
        "2) Funcion max inversion: \n",
        "\n",
        "  max: 0,18 * x1 + 0,20 * x2 + 0,25 * x3 + 0,19 * x4\n",
        "\n",
        "3) Restrincciones:\n",
        "\n",
        "  1) valor bonos no sea menor al 30% de inversion (x1 >= 0,30)\n",
        "  \n",
        "  2) Valor de certificados, al menos 40% de inversion (x4 >= 0,40)\n",
        "\n",
        "  3) Valor acciones no deben superar 20% de inversion ( x2 + x3 <= 0,20\n",
        "\n",
        "  4) propiedad de porcentaje ( x1 + x2 + x3 + x4 = 1)\n",
        "\n",
        "  5) No negatividad ( x1,x2,x3,x4 >= 0)"
      ],
      "metadata": {
        "id": "wUxQeQNQw-BH"
      }
    },
    {
      "cell_type": "code",
      "source": [
        "#instanciar el modelo\n",
        "ejemplo3 = LpProblem(name=\"ejemplo_3\" , sense = LpMaximize)\n",
        "  "
      ],
      "metadata": {
        "id": "gbebxLhHxAMe"
      },
      "execution_count": null,
      "outputs": []
    },
    {
      "cell_type": "code",
      "source": [
        "#instanciar variables\n",
        "x1 = LpVariable(name = \"x1\", lowBound = 0.0, upBound=1.0)\n",
        "x2 = LpVariable(name = \"x2\", lowBound = 0.0, upBound=1.0)\n",
        "x3 = LpVariable(name = \"x3\", lowBound = 0.0, upBound=1.0)\n",
        "x4 = LpVariable(name = \"x4\", lowBound = 0.0, upBound=1.0)"
      ],
      "metadata": {
        "id": "Ew-zM_l0yc7b"
      },
      "execution_count": null,
      "outputs": []
    },
    {
      "cell_type": "code",
      "source": [
        "#declarar funcion objetivo\n",
        "ejemplo3 += 0.18*x1 + 0.20*x2 + 0.25*x3 + 0.19*x4, \"maximizar_inversion\""
      ],
      "metadata": {
        "id": "D2q36QhR0yA2",
        "colab": {
          "base_uri": "https://localhost:8080/"
        },
        "outputId": "b93e4ac0-00f1-4252-d02d-8343a2942f7e"
      },
      "execution_count": null,
      "outputs": [
        {
          "output_type": "stream",
          "name": "stderr",
          "text": [
            "/usr/local/lib/python3.7/dist-packages/pulp/pulp.py:1704: UserWarning: Overwriting previously set objective.\n",
            "  warnings.warn(\"Overwriting previously set objective.\")\n"
          ]
        }
      ]
    },
    {
      "cell_type": "code",
      "source": [
        "#declarar restrincciones\n",
        "# 1. valor bonos no debe ser menor al 30% de la inversion\n",
        "ejemplo3 += x1 >= 0.30\n",
        "# 2. valor certificados, al menos 40% inversion \n",
        "ejemplo3 += x4 >= 0.40\n",
        "# 3. valor acciones no deben super el 20% inversion\n",
        "ejemplo3 += x2 + x3 <= 0.20 \n",
        "# 4. propiedad de porcentaje \n",
        "ejemplo3 += x1 + x2 + x3 + x4 == 1.0"
      ],
      "metadata": {
        "id": "vloEn0wP1NlV"
      },
      "execution_count": null,
      "outputs": []
    },
    {
      "cell_type": "code",
      "source": [
        "#resolver\n",
        "ejemplo3.solve()"
      ],
      "metadata": {
        "colab": {
          "base_uri": "https://localhost:8080/"
        },
        "id": "LfSzJYLR2rka",
        "outputId": "30fe10fd-692a-4ec0-88df-8036c1f10c50"
      },
      "execution_count": null,
      "outputs": [
        {
          "output_type": "execute_result",
          "data": {
            "text/plain": [
              "1"
            ]
          },
          "metadata": {},
          "execution_count": 18
        }
      ]
    },
    {
      "cell_type": "code",
      "source": [
        "# Resultados\n",
        "# 1. Variables:\n",
        "for v in ejemplo3.variables():\n",
        "  print(v.name, \":\", v.varValue)\n",
        "\n",
        "# 2. Funcion objetivo\n",
        "print(\"Funcion objetivo:\", value(ejemplo3.objective))"
      ],
      "metadata": {
        "colab": {
          "base_uri": "https://localhost:8080/"
        },
        "id": "c4632fBS2uvy",
        "outputId": "8b6f6ff6-5e6a-4fe4-c9ec-48938e6590a4"
      },
      "execution_count": null,
      "outputs": [
        {
          "output_type": "stream",
          "name": "stdout",
          "text": [
            "x1 : 0.3\n",
            "x2 : 0.0\n",
            "x3 : 0.2\n",
            "x4 : 0.5\n",
            "Funcion objetivo: 0.199\n"
          ]
        }
      ]
    }
  ]
}