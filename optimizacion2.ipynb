{
  "nbformat": 4,
  "nbformat_minor": 0,
  "metadata": {
    "colab": {
      "provenance": [],
      "collapsed_sections": [],
      "authorship_tag": "ABX9TyPl72Cre7ql95hnKd35LJad",
      "include_colab_link": true
    },
    "kernelspec": {
      "name": "python3",
      "display_name": "Python 3"
    },
    "language_info": {
      "name": "python"
    }
  },
  "cells": [
    {
      "cell_type": "markdown",
      "metadata": {
        "id": "view-in-github",
        "colab_type": "text"
      },
      "source": [
        "<a href=\"https://colab.research.google.com/github/bastiansosa/optmizacion/blob/main/optimizacion2.ipynb\" target=\"_parent\"><img src=\"https://colab.research.google.com/assets/colab-badge.svg\" alt=\"Open In Colab\"/></a>"
      ]
    },
    {
      "cell_type": "code",
      "source": [
        "!pip install pulp"
      ],
      "metadata": {
        "colab": {
          "base_uri": "https://localhost:8080/"
        },
        "id": "6swoO0HZxyza",
        "outputId": "27c1c377-e8b6-43b2-87a3-7a5b9a01fb8d"
      },
      "execution_count": null,
      "outputs": [
        {
          "output_type": "stream",
          "name": "stdout",
          "text": [
            "Looking in indexes: https://pypi.org/simple, https://us-python.pkg.dev/colab-wheels/public/simple/\n",
            "Requirement already satisfied: pulp in /usr/local/lib/python3.7/dist-packages (2.6.0)\n"
          ]
        }
      ]
    },
    {
      "cell_type": "code",
      "execution_count": null,
      "metadata": {
        "id": "Z7m8290sxUHU"
      },
      "outputs": [],
      "source": [
        "from pulp import *"
      ]
    },
    {
      "cell_type": "code",
      "source": [
        "modelo = LpProblem(name = \"Modelo\", sense = LpMaximize)"
      ],
      "metadata": {
        "id": "qq017UlzxZe7"
      },
      "execution_count": null,
      "outputs": []
    },
    {
      "cell_type": "code",
      "source": [
        "xA = LpVariable(name = \"Mesas\", lowBound=0)\n",
        "xB = LpVariable(name = \"Sillas\", lowBound=0)"
      ],
      "metadata": {
        "id": "MSU_IebYxrWi"
      },
      "execution_count": null,
      "outputs": []
    },
    {
      "cell_type": "code",
      "source": [
        "modelo += (60-20)*xA + (50-18)*xB, \"maximizar utilidades\""
      ],
      "metadata": {
        "id": "6cbf_DDZyC6i"
      },
      "execution_count": null,
      "outputs": []
    },
    {
      "cell_type": "code",
      "source": [
        "# 1) Limite de recursos a piezas pequeñas\n",
        "modelo += 8*xA + 6*xB <= 60, \"Recursos_total_piezas_pequeñas\"\n",
        "\n",
        "# 2) Limite de recursos a piezass granndes \n",
        "modelo += 2*xA + 1*xB <= 40, \"Recursos total piezas grandes\""
      ],
      "metadata": {
        "id": "2_AzxfuIy_op"
      },
      "execution_count": null,
      "outputs": []
    },
    {
      "cell_type": "code",
      "source": [
        "modelo.solve()"
      ],
      "metadata": {
        "colab": {
          "base_uri": "https://localhost:8080/"
        },
        "id": "F5sLA9EzzvPg",
        "outputId": "7463829e-ebcb-4431-ae20-dd683b179fbf"
      },
      "execution_count": null,
      "outputs": [
        {
          "output_type": "execute_result",
          "data": {
            "text/plain": [
              "1"
            ]
          },
          "metadata": {},
          "execution_count": 7
        }
      ]
    },
    {
      "cell_type": "code",
      "source": [
        "# Llamar a todas las variables\n",
        "for v in modelo.variables():\n",
        "  print(v.name, \"=\", v.varValue)"
      ],
      "metadata": {
        "colab": {
          "base_uri": "https://localhost:8080/"
        },
        "id": "T0QFUnC7zyjE",
        "outputId": "be42d8af-e92b-4372-9b39-a5892fe201ed"
      },
      "execution_count": null,
      "outputs": [
        {
          "output_type": "stream",
          "name": "stdout",
          "text": [
            "Mesas = 0.0\n",
            "Sillas = 10.0\n"
          ]
        }
      ]
    },
    {
      "cell_type": "code",
      "source": [
        "print(\"utilidades maximas\", value(modelo.objective))"
      ],
      "metadata": {
        "colab": {
          "base_uri": "https://localhost:8080/"
        },
        "id": "Z38SXgMm1bXN",
        "outputId": "b166bbc1-2dfe-4d5b-e62a-9434c3bc5561"
      },
      "execution_count": null,
      "outputs": [
        {
          "output_type": "stream",
          "name": "stdout",
          "text": [
            "utilidades maximas 320.0\n"
          ]
        }
      ]
    },
    {
      "cell_type": "code",
      "source": [],
      "metadata": {
        "id": "7M4PJEc61dxq"
      },
      "execution_count": null,
      "outputs": []
    }
  ]
}