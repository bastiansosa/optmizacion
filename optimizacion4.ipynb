{
  "nbformat": 4,
  "nbformat_minor": 0,
  "metadata": {
    "colab": {
      "provenance": [],
      "collapsed_sections": [],
      "authorship_tag": "ABX9TyNWAQxAu9MwmqtZH4+qiHzx",
      "include_colab_link": true
    },
    "kernelspec": {
      "name": "python3",
      "display_name": "Python 3"
    },
    "language_info": {
      "name": "python"
    }
  },
  "cells": [
    {
      "cell_type": "markdown",
      "metadata": {
        "id": "view-in-github",
        "colab_type": "text"
      },
      "source": [
        "<a href=\"https://colab.research.google.com/github/bastiansosa/optmizacion/blob/main/optimizacion4.ipynb\" target=\"_parent\"><img src=\"https://colab.research.google.com/assets/colab-badge.svg\" alt=\"Open In Colab\"/></a>"
      ]
    },
    {
      "cell_type": "code",
      "execution_count": 1,
      "metadata": {
        "colab": {
          "base_uri": "https://localhost:8080/"
        },
        "id": "cVQjH-pZO5AF",
        "outputId": "878842ac-1ccd-4f03-9e63-d03bbcc40d3a"
      },
      "outputs": [
        {
          "output_type": "stream",
          "name": "stdout",
          "text": [
            "Looking in indexes: https://pypi.org/simple, https://us-python.pkg.dev/colab-wheels/public/simple/\n",
            "Collecting pulp\n",
            "  Downloading PuLP-2.7.0-py3-none-any.whl (14.3 MB)\n",
            "\u001b[K     |████████████████████████████████| 14.3 MB 8.0 MB/s \n",
            "\u001b[?25hInstalling collected packages: pulp\n",
            "Successfully installed pulp-2.7.0\n"
          ]
        }
      ],
      "source": [
        "!pip install pulp\n",
        "from pulp import *"
      ]
    },
    {
      "cell_type": "markdown",
      "source": [
        "Ejercicio4\n",
        "\n",
        "Obj: minimizar los costos de transporte\n",
        "\n",
        "1) variable de decision:\n",
        "\n",
        "  cantidad a transportar desde plantas a cd3\n",
        "\n",
        "  x11= cantidad a transportar desde planta 1 a cd1\n",
        "\n",
        "  x12= cantidad a transportar desde planta 1 a cd2\n",
        "\n",
        "  x23= cantidad a transportar desde planta 2 a cd3\n",
        "\n",
        "2) Funcion objetivo: \n",
        "\n",
        "min: 21 * x11 + 25 * x12 + 15 * x13 + 28 * x21 + 13 * x22 + 19 * x23\n",
        "\n",
        "Restrincciones: \n",
        "\n",
        "cumplir dda (mayor o igual"
      ],
      "metadata": {
        "id": "5aH9igtJO-oO"
      }
    },
    {
      "cell_type": "code",
      "source": [
        "def modelo_ejemplo4():\n",
        "\n",
        "  #instanciar modelo\n",
        "  ejemplo4 = LpProblem(name = \"Ejemplo_4\", sense = LpMinimize)\n",
        "  #declarar variable \n",
        "  x11 = LpVariable(name = \"x11\", lowBound=0)\n",
        "  x12 = LpVariable(name = \"x12\", lowBound=0)\n",
        "  x13 = LpVariable(name = \"x13\", lowBound=0)\n",
        "  x21 = LpVariable(name = \"x21\", lowBound=0)\n",
        "  x22 = LpVariable(name = \"x22\", lowBound=0)\n",
        "  x23 = LpVariable(name = \"x23\", lowBound=0)\n",
        "\n",
        "  #declarar funcion modelo\n",
        "  ejemplo4 += 21*x11 + 25*x12 + 15*x13 + 28*x21 + 13*x22 + 19*x23, \"minimizar_costos_transporte\"\n",
        "  #declarar restrinciones\n",
        "  #1. se debe cumplir la demanda \n",
        "  # CD1:\n",
        "  ejemplo4 += x11 + x21 >= 200, \"Demanda minima para CD1\"\n",
        "\n",
        "  # CD2:\n",
        "  ejemplo4 += x12 + x22 >= 200, \"Demanda minima para CD2\"\n",
        "\n",
        "  # CD1:\n",
        "  ejemplo4 += x13 + x23 >= 250, \"Demanda minima para CD3\"\n",
        "\n",
        "  # 2. Se debe respetar el máximo de oferta para cada planta\n",
        "  # P1: \n",
        "  ejemplo4 += x11 + x12 + x13 <= 250, \"Oferta maxima para P1\"\n",
        "\n",
        "  # P2: \n",
        "  ejemplo4 += x21 + x22 + x23 <= 450, \"Oferta maxima para P2\"\n",
        "\n",
        "  # Resolver\n",
        "  if ejemplo4.solve()==1:\n",
        "    # Imprimir resultados:\n",
        "  # Variables:\n",
        "    for v in ejemplo4.variables():\n",
        "      if v.varValue != 0:\n",
        "        print(v.name, \":\", v.varValue)\n",
        "\n",
        "    # 2. Funcion objetivo\n",
        "    print(\"Funcion objetivo:\", value(ejemplo4.objective))"
      ],
      "metadata": {
        "id": "EIbYtisrPDbN"
      },
      "execution_count": 4,
      "outputs": []
    },
    {
      "cell_type": "code",
      "source": [
        "modelo_ejemplo4()"
      ],
      "metadata": {
        "colab": {
          "base_uri": "https://localhost:8080/"
        },
        "id": "n3h0nJ-PPH4U",
        "outputId": "ba9ff19d-320c-4b33-9693-10f96647c7e1"
      },
      "execution_count": 5,
      "outputs": [
        {
          "output_type": "stream",
          "name": "stdout",
          "text": [
            "x11 : 200.0\n",
            "x13 : 50.0\n",
            "x22 : 200.0\n",
            "x23 : 200.0\n",
            "Funcion objetivo: 11350.0\n"
          ]
        }
      ]
    },
    {
      "cell_type": "code",
      "source": [],
      "metadata": {
        "id": "4xqtZWxGQV67"
      },
      "execution_count": null,
      "outputs": []
    },
    {
      "cell_type": "code",
      "source": [],
      "metadata": {
        "id": "5AZa04o-Q1qt"
      },
      "execution_count": null,
      "outputs": []
    }
  ]
}