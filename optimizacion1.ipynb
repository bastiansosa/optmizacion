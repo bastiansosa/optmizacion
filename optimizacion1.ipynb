{
  "nbformat": 4,
  "nbformat_minor": 0,
  "metadata": {
    "colab": {
      "provenance": [],
      "collapsed_sections": [],
      "authorship_tag": "ABX9TyNAG7EXaQfK1trH9Bbfs13e",
      "include_colab_link": true
    },
    "kernelspec": {
      "name": "python3",
      "display_name": "Python 3"
    },
    "language_info": {
      "name": "python"
    }
  },
  "cells": [
    {
      "cell_type": "markdown",
      "metadata": {
        "id": "view-in-github",
        "colab_type": "text"
      },
      "source": [
        "<a href=\"https://colab.research.google.com/github/bastiansosa/optmizacion/blob/main/optimizacion1.ipynb\" target=\"_parent\"><img src=\"https://colab.research.google.com/assets/colab-badge.svg\" alt=\"Open In Colab\"/></a>"
      ]
    },
    {
      "cell_type": "code",
      "execution_count": null,
      "metadata": {
        "colab": {
          "base_uri": "https://localhost:8080/"
        },
        "id": "3aCBEQlFl-Im",
        "outputId": "57251c46-5ad0-4067-9306-275d9ed93601"
      },
      "outputs": [
        {
          "output_type": "stream",
          "name": "stdout",
          "text": [
            "Looking in indexes: https://pypi.org/simple, https://us-python.pkg.dev/colab-wheels/public/simple/\n",
            "Collecting pulp\n",
            "  Downloading PuLP-2.6.0-py3-none-any.whl (14.2 MB)\n",
            "\u001b[K     |████████████████████████████████| 14.2 MB 12.8 MB/s \n",
            "\u001b[?25hInstalling collected packages: pulp\n",
            "Successfully installed pulp-2.6.0\n"
          ]
        }
      ],
      "source": [
        "!pip install pulp"
      ]
    },
    {
      "cell_type": "code",
      "source": [
        "from pulp import *"
      ],
      "metadata": {
        "id": "fggF58IGmiJ2"
      },
      "execution_count": null,
      "outputs": []
    },
    {
      "cell_type": "markdown",
      "source": [
        "#Creacion del modelo\n",
        "\n"
      ],
      "metadata": {
        "id": "mLkPK4Memtad"
      }
    },
    {
      "cell_type": "code",
      "source": [
        "ejemplo1 = LpProblem(name = \"Ejemplo 1\", sense = LpMaximize)"
      ],
      "metadata": {
        "colab": {
          "base_uri": "https://localhost:8080/"
        },
        "id": "vwrcbexkmtEQ",
        "outputId": "ec118066-3be8-44e8-d4a2-ed12e7bbd9eb"
      },
      "execution_count": null,
      "outputs": [
        {
          "output_type": "stream",
          "name": "stderr",
          "text": [
            "/usr/local/lib/python3.7/dist-packages/pulp/pulp.py:1352: UserWarning: Spaces are not permitted in the name. Converted to '_'\n",
            "  warnings.warn(\"Spaces are not permitted in the name. Converted to '_'\")\n"
          ]
        }
      ]
    },
    {
      "cell_type": "markdown",
      "source": [
        "#Declaracion de variables\n"
      ],
      "metadata": {
        "id": "14EC588bm6bG"
      }
    },
    {
      "cell_type": "code",
      "source": [
        "xA = LpVariable(name = \"Producto A\", lowBound=0)\n",
        "xB = LpVariable(name = \"Producto B\", lowBound=0)"
      ],
      "metadata": {
        "id": "_xsMNuzYm6Hu"
      },
      "execution_count": null,
      "outputs": []
    },
    {
      "cell_type": "markdown",
      "source": [
        "#Declarar funcion objetivo"
      ],
      "metadata": {
        "id": "vJzwGfHXn-js"
      }
    },
    {
      "cell_type": "code",
      "source": [
        "ejemplo1 += 10*xA + 12*xB, \"maximizar ventas\""
      ],
      "metadata": {
        "id": "d82Il7ZsmkSY"
      },
      "execution_count": null,
      "outputs": []
    },
    {
      "cell_type": "markdown",
      "source": [
        "#Declarar restricciones\n"
      ],
      "metadata": {
        "id": "jeEkO7p3ociN"
      }
    },
    {
      "cell_type": "code",
      "source": [
        "# 1) Limite de horas a trabajar\n",
        "ejemplo1 += 2*xA + 1.5*xB <= 40, \"Horas maximas\"\n",
        "\n",
        "# 2) Limite de tarros de pinturas a utilizar \n",
        "ejemplo1 += xA + 2*xB <= 50, \"Tarros maximos disponibles\""
      ],
      "metadata": {
        "id": "iG39sZmuohf8"
      },
      "execution_count": null,
      "outputs": []
    },
    {
      "cell_type": "markdown",
      "source": [
        "#Resolver\n"
      ],
      "metadata": {
        "id": "Zry-gQILqJ64"
      }
    },
    {
      "cell_type": "code",
      "source": [
        "ejemplo1.solve()"
      ],
      "metadata": {
        "colab": {
          "base_uri": "https://localhost:8080/"
        },
        "id": "O76YzRYbprg7",
        "outputId": "5d591b36-84cd-48a3-d93d-45508a3a6175"
      },
      "execution_count": null,
      "outputs": [
        {
          "output_type": "execute_result",
          "data": {
            "text/plain": [
              "1"
            ]
          },
          "metadata": {},
          "execution_count": 7
        }
      ]
    },
    {
      "cell_type": "code",
      "source": [
        "# Llamar a todas las variables\n",
        "for v in ejemplo1.variables():\n",
        "  print(v.name, \"=\", v.varValue)"
      ],
      "metadata": {
        "colab": {
          "base_uri": "https://localhost:8080/"
        },
        "id": "3RP17asvpwOR",
        "outputId": "996967c5-74ba-4e49-88d8-982f74525285"
      },
      "execution_count": null,
      "outputs": [
        {
          "output_type": "stream",
          "name": "stdout",
          "text": [
            "Producto_A = 2.0\n",
            "Producto_B = 24.0\n"
          ]
        }
      ]
    },
    {
      "cell_type": "code",
      "source": [],
      "metadata": {
        "id": "xA9rZ0ZJqe3F"
      },
      "execution_count": null,
      "outputs": []
    }
  ]
}