{
  "nbformat": 4,
  "nbformat_minor": 0,
  "metadata": {
    "colab": {
      "provenance": [],
      "authorship_tag": "ABX9TyPwgxRmMCOVhgnt1L8XEjTg",
      "include_colab_link": true
    },
    "kernelspec": {
      "name": "python3",
      "display_name": "Python 3"
    },
    "language_info": {
      "name": "python"
    }
  },
  "cells": [
    {
      "cell_type": "markdown",
      "metadata": {
        "id": "view-in-github",
        "colab_type": "text"
      },
      "source": [
        "<a href=\"https://colab.research.google.com/github/bastiansosa/optmizacion/blob/main/optimizacion(generico).ipynb\" target=\"_parent\"><img src=\"https://colab.research.google.com/assets/colab-badge.svg\" alt=\"Open In Colab\"/></a>"
      ]
    },
    {
      "cell_type": "code",
      "execution_count": 8,
      "metadata": {
        "id": "aTjx48wW-Crq"
      },
      "outputs": [],
      "source": [
        "import numpy as np\n",
        "import matplotlib.pylab as plt\n"
      ]
    },
    {
      "cell_type": "code",
      "source": [
        "K = 256e3\n",
        "n = 10 #cantidad de segmento\n",
        "m = 5 #cantidad de usuarios o pears\n",
        "\n",
        "B = 100e6*np.random.rand(m)\n",
        "MD = np.random.randint(0,2,(m,n))\n",
        "\n",
        "sol = np.random.randint(1,m+1,n)"
      ],
      "metadata": {
        "id": "7KM8NKr_-yNm"
      },
      "execution_count": 19,
      "outputs": []
    },
    {
      "cell_type": "code",
      "source": [
        "def fitness(sol):\n",
        "  m,n=MD.shape #m->cantidad de peers, n->cantidad de segmento\n",
        "  count = np.zeros(m)\n",
        "  for i in range(m):\n",
        "    count[i] = np.sum(sol==(i+1))\n",
        "  t = count*K/B\n",
        "  t_max = np.max(t)\n",
        "  t_mean = n*K/np.sum(B)\n",
        "  return np.abs(t_max-t_mean)\n",
        "  "
      ],
      "metadata": {
        "id": "MukuaFpD_rcs"
      },
      "execution_count": 22,
      "outputs": []
    },
    {
      "cell_type": "code",
      "source": [
        "sol = np.random.randint(1,m+1,(n))\n",
        "fitness(sol,MD,K,B)"
      ],
      "metadata": {
        "colab": {
          "base_uri": "https://localhost:8080/"
        },
        "id": "s50UtGbUH96t",
        "outputId": "938b4251-d9c4-4657-cfae-8a2c116edd25"
      },
      "execution_count": 12,
      "outputs": [
        {
          "output_type": "execute_result",
          "data": {
            "text/plain": [
              "7.999402329467802"
            ]
          },
          "metadata": {},
          "execution_count": 12
        }
      ]
    },
    {
      "cell_type": "markdown",
      "source": [
        "algoritmos geneticos\n"
      ],
      "metadata": {
        "id": "7ZwcCr9WKq-I"
      }
    },
    {
      "cell_type": "code",
      "source": [
        "!pip install geneticalgorithm"
      ],
      "metadata": {
        "colab": {
          "base_uri": "https://localhost:8080/"
        },
        "id": "xfJFKVXWLChW",
        "outputId": "a6baf93e-7fec-4542-e07b-a522d2a2a482"
      },
      "execution_count": 13,
      "outputs": [
        {
          "output_type": "stream",
          "name": "stdout",
          "text": [
            "Looking in indexes: https://pypi.org/simple, https://us-python.pkg.dev/colab-wheels/public/simple/\n",
            "Collecting geneticalgorithm\n",
            "  Downloading geneticalgorithm-1.0.2-py3-none-any.whl (16 kB)\n",
            "Collecting func-timeout\n",
            "  Downloading func_timeout-4.3.5.tar.gz (44 kB)\n",
            "\u001b[K     |████████████████████████████████| 44 kB 1.4 MB/s \n",
            "\u001b[?25hRequirement already satisfied: numpy in /usr/local/lib/python3.7/dist-packages (from geneticalgorithm) (1.21.6)\n",
            "Building wheels for collected packages: func-timeout\n",
            "  Building wheel for func-timeout (setup.py) ... \u001b[?25l\u001b[?25hdone\n",
            "  Created wheel for func-timeout: filename=func_timeout-4.3.5-py3-none-any.whl size=15097 sha256=edb51d8fad2facd03579289c5d12c497066ddd37cbb314137f5beda8f84d3fe2\n",
            "  Stored in directory: /root/.cache/pip/wheels/68/b5/a5/67c4364c354e141f5a1bd3ec568126f77877ab7554cf5af8cb\n",
            "Successfully built func-timeout\n",
            "Installing collected packages: func-timeout, geneticalgorithm\n",
            "Successfully installed func-timeout-4.3.5 geneticalgorithm-1.0.2\n"
          ]
        }
      ]
    },
    {
      "cell_type": "code",
      "source": [
        "from geneticalgorithm import geneticalgorithm as ga"
      ],
      "metadata": {
        "id": "BbVdvq3bJRGK"
      },
      "execution_count": 14,
      "outputs": []
    },
    {
      "cell_type": "code",
      "source": [
        "model = ga(function=fitness,\n",
        "           dimension=n,\n",
        "           variable_type='int',\n",
        "           variable_boundaries=np.array([[1,m]]*n),\n",
        "          )"
      ],
      "metadata": {
        "id": "SAVCOnBcLHgR"
      },
      "execution_count": 23,
      "outputs": []
    },
    {
      "cell_type": "code",
      "source": [
        "model.param['max_num_iteration']=500\n",
        "model.param['population_size']=50"
      ],
      "metadata": {
        "id": "z3c-9Fa2LIx5"
      },
      "execution_count": 24,
      "outputs": []
    },
    {
      "cell_type": "code",
      "source": [
        "model.param"
      ],
      "metadata": {
        "colab": {
          "base_uri": "https://localhost:8080/"
        },
        "id": "a_RRztbqPTNN",
        "outputId": "ba501671-9b5c-4aad-86ba-de8d399511ad"
      },
      "execution_count": 25,
      "outputs": [
        {
          "output_type": "execute_result",
          "data": {
            "text/plain": [
              "{'max_num_iteration': 500,\n",
              " 'population_size': 50,\n",
              " 'mutation_probability': 0.1,\n",
              " 'elit_ratio': 0.01,\n",
              " 'crossover_probability': 0.5,\n",
              " 'parents_portion': 0.3,\n",
              " 'crossover_type': 'uniform',\n",
              " 'max_iteration_without_improv': None}"
            ]
          },
          "metadata": {},
          "execution_count": 25
        }
      ]
    },
    {
      "cell_type": "code",
      "source": [
        "model.run()"
      ],
      "metadata": {
        "colab": {
          "base_uri": "https://localhost:8080/",
          "height": 382
        },
        "id": "UKlRwCXAPXec",
        "outputId": "3dcb9474-326c-4f8c-dc82-64f6a5750384"
      },
      "execution_count": 26,
      "outputs": [
        {
          "output_type": "stream",
          "name": "stdout",
          "text": [
            " The best solution found:\n",
            " [1. 4. 2. 1. 4. 3. 4. 4. 3. 5.]\n",
            "\n",
            " Objective function:\n",
            " 0.001630874014798547\n"
          ]
        },
        {
          "output_type": "display_data",
          "data": {
            "text/plain": [
              "<Figure size 432x288 with 1 Axes>"
            ],
            "image/png": "[encoded data removed]"
          },
          "metadata": {
            "needs_background": "light"
          }
        }
      ]
    },
    {
      "cell_type": "code",
      "source": [],
      "metadata": {
        "id": "qANVulM9PgLA"
      },
      "execution_count": null,
      "outputs": []
    }
  ]
}